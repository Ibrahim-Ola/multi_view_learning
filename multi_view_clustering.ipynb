{
 "cells": [
  {
   "cell_type": "markdown",
   "metadata": {},
   "source": [
    "## Setup\n",
    "\n",
    "Load libraries"
   ]
  },
  {
   "cell_type": "code",
   "execution_count": 1,
   "metadata": {},
   "outputs": [],
   "source": [
    "import glob as gb\n",
    "import numpy as np\n",
    "import pandas as pd\n",
    "import seaborn as sns\n",
    "import matplotlib.pyplot as plt"
   ]
  },
  {
   "cell_type": "markdown",
   "metadata": {},
   "source": [
    "## Loading the Digits Dataset\n",
    "\n",
    "The digits dataset has six views and each view has 2000 observations."
   ]
  },
  {
   "cell_type": "code",
   "execution_count": 2,
   "metadata": {},
   "outputs": [],
   "source": [
    "# load the data\n",
    "all_views = gb.glob('./data/multiple+features/mfeat-*')\n",
    "\n",
    "## working with two views\n",
    "mapper = map(lambda filename: pd.read_csv(filename, index_col=None, sep='\\s+', header=None), all_views)\n",
    "\n",
    "# Multiview\n",
    "X_mv=list(mapper)\n",
    "\n",
    "## Singleview\n",
    "X_sv=pd.concat(X_mv, axis=1, ignore_index=True)\n",
    "\n",
    "## Output\n",
    "y = np.repeat(range(0,10), 200)"
   ]
  },
  {
   "cell_type": "code",
   "execution_count": 9,
   "metadata": {},
   "outputs": [
    {
     "name": "stdout",
     "output_type": "stream",
     "text": [
      "Number of features in each view\n",
      "View 1: 6 features\n",
      "View 2: 216 features\n",
      "View 3: 76 features\n",
      "View 4: 47 features\n",
      "View 5: 64 features\n",
      "View 6: 240 features\n"
     ]
    }
   ],
   "source": [
    "print(\"Number of features in each view\")\n",
    "\n",
    "for idx, vinw in enumerate(X_mv):\n",
    "    print(f\"View {idx+1}: {vinw.shape[1]} features\")"
   ]
  },
  {
   "cell_type": "markdown",
   "metadata": {},
   "source": [
    "## Dimensionality Reduction using t-SNE\n",
    "\n",
    "t-SNE (t-distributed Stochastic Neighbor Embedding) is a powerful technique for dimensionality reduction, particularly well-suited for visualizing high-dimensional data in a low-dimensional space (like 2D or 3D). It works by converting similarities between data points to joint probabilities and then minimizing the divergence between these probabilities in the original high-dimensional space and the reduced low-dimensional space, making it easier to identify patterns and clusters in the data. I am using t-SNE to reduce dimensionality to 2D for plotting."
   ]
  }
 ],
 "metadata": {
  "kernelspec": {
   "display_name": ".venv",
   "language": "python",
   "name": "python3"
  },
  "language_info": {
   "codemirror_mode": {
    "name": "ipython",
    "version": 3
   },
   "file_extension": ".py",
   "mimetype": "text/x-python",
   "name": "python",
   "nbconvert_exporter": "python",
   "pygments_lexer": "ipython3",
   "version": "3.11.5"
  }
 },
 "nbformat": 4,
 "nbformat_minor": 2
}
